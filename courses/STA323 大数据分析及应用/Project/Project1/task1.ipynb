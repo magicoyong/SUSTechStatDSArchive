{
 "cells": [
  {
   "cell_type": "code",
   "execution_count": 1,
   "id": "867ba97b-ba17-4a39-b039-e81ee98bbb5f",
   "metadata": {
    "tags": []
   },
   "outputs": [],
   "source": [
    "from pyspark.sql import SparkSession\n",
    "from pyspark.sql.functions import to_timestamp, col, count, when\n",
    "import pandas as pd\n",
    "import matplotlib.pyplot as plt"
   ]
  },
  {
   "cell_type": "code",
   "execution_count": 2,
   "id": "7894f847-4b94-407b-a011-3fcae0c0c05c",
   "metadata": {
    "tags": []
   },
   "outputs": [
    {
     "name": "stderr",
     "output_type": "stream",
     "text": [
      "Setting default log level to \"WARN\".\n",
      "To adjust logging level use sc.setLogLevel(newLevel). For SparkR, use setLogLevel(newLevel).\n",
      "24/04/06 06:42:31 WARN NativeCodeLoader: Unable to load native-hadoop library for your platform... using builtin-java classes where applicable\n",
      "24/04/06 06:42:31 WARN Utils: Service 'SparkUI' could not bind on port 4040. Attempting port 4041.\n",
      "                                                                                \r"
     ]
    },
    {
     "name": "stdout",
     "output_type": "stream",
     "text": [
      "root\n",
      " |-- host: string (nullable = true)\n",
      " |-- id.orig_h: string (nullable = true)\n",
      " |-- id.orig_p: long (nullable = true)\n",
      " |-- id.resp_h: string (nullable = true)\n",
      " |-- id.resp_p: long (nullable = true)\n",
      " |-- method: string (nullable = true)\n",
      " |-- orig_filenames: array (nullable = true)\n",
      " |    |-- element: string (containsNull = true)\n",
      " |-- orig_fuids: array (nullable = true)\n",
      " |    |-- element: string (containsNull = true)\n",
      " |-- orig_mime_types: array (nullable = true)\n",
      " |    |-- element: string (containsNull = true)\n",
      " |-- origin: string (nullable = true)\n",
      " |-- proxied: array (nullable = true)\n",
      " |    |-- element: string (containsNull = true)\n",
      " |-- referrer: string (nullable = true)\n",
      " |-- request_body_len: long (nullable = true)\n",
      " |-- resp_filenames: array (nullable = true)\n",
      " |    |-- element: string (containsNull = true)\n",
      " |-- resp_fuids: array (nullable = true)\n",
      " |    |-- element: string (containsNull = true)\n",
      " |-- resp_mime_types: array (nullable = true)\n",
      " |    |-- element: string (containsNull = true)\n",
      " |-- response_body_len: long (nullable = true)\n",
      " |-- status_code: integer (nullable = true)\n",
      " |-- status_msg: string (nullable = true)\n",
      " |-- tags: array (nullable = true)\n",
      " |    |-- element: string (containsNull = true)\n",
      " |-- trans_depth: long (nullable = true)\n",
      " |-- ts: double (nullable = true)\n",
      " |-- uid: string (nullable = true)\n",
      " |-- uri: string (nullable = true)\n",
      " |-- user_agent: string (nullable = true)\n",
      " |-- username: string (nullable = true)\n",
      " |-- version: string (nullable = true)\n",
      "\n",
      "root\n",
      " |-- AA: boolean (nullable = true)\n",
      " |-- RA: boolean (nullable = true)\n",
      " |-- RD: boolean (nullable = true)\n",
      " |-- TC: boolean (nullable = true)\n",
      " |-- TTLs: array (nullable = true)\n",
      " |    |-- element: double (containsNull = true)\n",
      " |-- Z: long (nullable = true)\n",
      " |-- answers: array (nullable = true)\n",
      " |    |-- element: string (containsNull = true)\n",
      " |-- id.orig_h: string (nullable = true)\n",
      " |-- id.orig_p: long (nullable = true)\n",
      " |-- id.resp_h: string (nullable = true)\n",
      " |-- id.resp_p: long (nullable = true)\n",
      " |-- proto: string (nullable = true)\n",
      " |-- qclass: long (nullable = true)\n",
      " |-- qclass_name: string (nullable = true)\n",
      " |-- qtype: long (nullable = true)\n",
      " |-- qtype_name: string (nullable = true)\n",
      " |-- query: string (nullable = true)\n",
      " |-- rcode: long (nullable = true)\n",
      " |-- rcode_name: string (nullable = true)\n",
      " |-- rejected: boolean (nullable = true)\n",
      " |-- rtt: double (nullable = true)\n",
      " |-- trans_id: long (nullable = true)\n",
      " |-- ts: double (nullable = true)\n",
      " |-- uid: string (nullable = true)\n",
      "\n"
     ]
    },
    {
     "name": "stderr",
     "output_type": "stream",
     "text": [
      "24/04/06 06:42:40 WARN SparkStringUtils: Truncated the string representation of a plan since it was too large. This behavior can be adjusted by setting 'spark.sql.debug.maxToStringFields'.\n"
     ]
    },
    {
     "name": "stdout",
     "output_type": "stream",
     "text": [
      "+---------------+---------------+---------+---------------+---------+------+--------------+--------------------+---------------+------+-------+--------------------+----------------+--------------+--------------------+---------------+-----------------+-----------+-----------------+----+-----------+---------------+------------------+--------------------+--------------------+--------+-------+\n",
      "|           host|      id.orig_h|id.orig_p|      id.resp_h|id.resp_p|method|orig_filenames|          orig_fuids|orig_mime_types|origin|proxied|            referrer|request_body_len|resp_filenames|          resp_fuids|resp_mime_types|response_body_len|status_code|       status_msg|tags|trans_depth|             ts|               uid|                 uri|          user_agent|username|version|\n",
      "+---------------+---------------+---------+---------------+---------+------+--------------+--------------------+---------------+------+-------+--------------------+----------------+--------------+--------------------+---------------+-----------------+-----------+-----------------+----+-----------+---------------+------------------+--------------------+--------------------+--------+-------+\n",
      "| 192.168.202.78| 192.168.204.70|    46197| 192.168.202.78|       80|  POST|          NULL|[FPp8eT1dDgDcIzdRT7]|   [text/plain]|  NULL|   NULL|http://192.168.20...|            4490|          NULL|                NULL|           NULL|                0|        302|            Found|  []|          1|1.33191073224E9| C1odva1GOl62Mubql|           /doku.php|Mozilla/5.0 (X11;...|    NULL|    1.1|\n",
      "|192.168.205.253|192.168.202.107|     1191|192.168.205.253|       80|   GET|          NULL|                NULL|           NULL|  NULL|   NULL|                NULL|               0|          NULL| [FLeXV6ZoEWi12BLol]|    [text/html]|               56|        301|Moved Permanently|  []|          1|1.33191073239E9| CQLw22eZ8JIDpJcik|/sdk/vimService?wsdl|                NULL|    NULL|    1.1|\n",
      "|   127.0.0.1:80|192.168.202.102|     1112| 192.168.22.152|       80|   GET|          NULL|                NULL|           NULL|  NULL|   NULL|                NULL|               0|          NULL|[FVOd8i2QjtprIkVwX1]|    [text/html]|               44|        200|               OK|  []|          1|1.33191073244E9|CKaLaf1peiUU3kmTV8|         /index.html|                NULL|    NULL|    1.1|\n",
      "| 192.168.202.78| 192.168.204.70|    46198| 192.168.202.78|       80|   GET|          NULL|                NULL|           NULL|  NULL|   NULL|http://192.168.20...|               0|          NULL|[FImEgi2hnmej8PAoui]|    [text/html]|            22249|        200|               OK|  []|          1|1.33191073234E9|CtEYyv1YQSocDA5oY6| /doku.php?id=start&|Mozilla/5.0 (X11;...|    NULL|    1.1|\n",
      "| 192.168.202.78| 192.168.204.70|    46200| 192.168.202.78|       80|   GET|          NULL|                NULL|           NULL|  NULL|   NULL|http://192.168.20...|               0|          NULL|                NULL|           NULL|                0|        304|     Not Modified|  []|          1|1.33191073269E9|CwrlVC14uolzZt7dPc|/lib/tpl/default/...|Mozilla/5.0 (X11;...|    NULL|    1.1|\n",
      "+---------------+---------------+---------+---------------+---------+------+--------------+--------------------+---------------+------+-------+--------------------+----------------+--------------+--------------------+---------------+-----------------+-----------+-----------------+----+-----------+---------------+------------------+--------------------+--------------------+--------+-------+\n",
      "only showing top 5 rows\n",
      "\n",
      "+-----+-----+----+-----+----+---+-------+--------------+---------+-------------+---------+-----+------+-----------+-----+----------+-------------------+-----+----------+--------+----+--------+---------------+------------------+\n",
      "|   AA|   RA|  RD|   TC|TTLs|  Z|answers|     id.orig_h|id.orig_p|    id.resp_h|id.resp_p|proto|qclass|qclass_name|qtype|qtype_name|              query|rcode|rcode_name|rejected| rtt|trans_id|             ts|               uid|\n",
      "+-----+-----+----+-----+----+---+-------+--------------+---------+-------------+---------+-----+------+-----------+-----+----------+-------------------+-----+----------+--------+----+--------+---------------+------------------+\n",
      "|false|false|true|false|NULL|  0|   NULL|192.168.204.70|    38795|192.168.207.4|       53|  tcp|     1| C_INTERNET|   28|      AAAA|creativecommons.org|    3|  NXDOMAIN|   false|NULL|   50106|1.33191073286E9| C1odva1GOl62Mubql|\n",
      "|false|false|true|false|NULL|  0|   NULL|192.168.204.70|    53918|192.168.207.4|       53|  udp|     1| C_INTERNET|   28|      AAAA|   www.dokuwiki.org|    3|  NXDOMAIN|   false|NULL|   52251|1.33191073286E9| CQLw22eZ8JIDpJcik|\n",
      "|false|false|true|false|NULL|  0|   NULL|192.168.204.70|    45058|192.168.207.4|       53|  udp|     1| C_INTERNET|   28|      AAAA|creativecommons.org|    3|  NXDOMAIN|   false|NULL|   61533|1.33191073286E9|CKaLaf1peiUU3kmTV8|\n",
      "|false|false|true|false|NULL|  0|   NULL|192.168.204.70|    56979|192.168.207.4|       53|  udp|     1| C_INTERNET|   28|      AAAA|        www.php.net|    3|  NXDOMAIN|   false|NULL|   37509|1.33191073286E9|CtEYyv1YQSocDA5oY6|\n",
      "|false|false|true|false|NULL|  0|   NULL|192.168.204.70|    35954|192.168.207.4|       53|  udp|     1| C_INTERNET|   28|      AAAA|   www.dokuwiki.org|    3|  NXDOMAIN|   false|NULL|   17572|1.33191073286E9|CwrlVC14uolzZt7dPc|\n",
      "+-----+-----+----+-----+----+---+-------+--------------+---------+-------------+---------+-----+------+-----------+-----+----------+-------------------+-----+----------+--------+----+--------+---------------+------------------+\n",
      "only showing top 5 rows\n",
      "\n"
     ]
    }
   ],
   "source": [
    "spark = SparkSession.builder \\\n",
    "    .appName(\"Create DataFrames from Logs\") \\\n",
    "    .getOrCreate()\n",
    "\n",
    "file_paths_http = [\"./data/task1/00/http.log.gz\", \"./data/task1/01/http.log.gz\", \"./data/task1/02/http.log.gz\",\n",
    "                   \"./data/task1/03/http.log.gz\", \"./data/task1/04/http.log.gz\", \"./data/task1/05/http.log.gz\"]\n",
    "\n",
    "file_paths_dns = [\"./data/task1/00/dns.log.gz\", \"./data/task1/01/dns.log.gz\", \"./data/task1/02/dns.log.gz\",\n",
    "                  \"./data/task1/03/dns.log.gz\", \"./data/task1/04/dns.log.gz\", \"./data/task1/05/dns.log.gz\"]\n",
    "\n",
    "df_http = spark.read.json(file_paths_http).withColumn(\"status_code\", col(\"status_code\").cast(\"int\"))\n",
    "\n",
    "df_dns = spark.read.json(file_paths_dns)\n",
    "\n",
    "df_http.printSchema()\n",
    "df_dns.printSchema()\n",
    "\n",
    "df_http.show(5, truncate=True)\n",
    "df_dns.show(5, truncate=True)"
   ]
  },
  {
   "cell_type": "code",
   "execution_count": 3,
   "id": "d89e9fa6-0d59-4a9b-982c-973381dd2d22",
   "metadata": {
    "tags": []
   },
   "outputs": [
    {
     "name": "stdout",
     "output_type": "stream",
     "text": [
      "+---------------+---------------+---------+---------------+---------+------+--------------+--------------------+---------------+------+-------+--------------------+----------------+--------------+--------------------+---------------+-----------------+-----------+-----------------+----+-----------+--------------------+------------------+--------------------+--------------------+--------+-------+\n",
      "|           host|      id.orig_h|id.orig_p|      id.resp_h|id.resp_p|method|orig_filenames|          orig_fuids|orig_mime_types|origin|proxied|            referrer|request_body_len|resp_filenames|          resp_fuids|resp_mime_types|response_body_len|status_code|       status_msg|tags|trans_depth|                  ts|               uid|                 uri|          user_agent|username|version|\n",
      "+---------------+---------------+---------+---------------+---------+------+--------------+--------------------+---------------+------+-------+--------------------+----------------+--------------+--------------------+---------------+-----------------+-----------+-----------------+----+-----------+--------------------+------------------+--------------------+--------------------+--------+-------+\n",
      "| 192.168.202.78| 192.168.204.70|    46197| 192.168.202.78|       80|  POST|          NULL|[FPp8eT1dDgDcIzdRT7]|   [text/plain]|  NULL|   NULL|http://192.168.20...|            4490|          NULL|                NULL|           NULL|                0|        302|            Found|  []|          1|2012-03-16 15:12:...| C1odva1GOl62Mubql|           /doku.php|Mozilla/5.0 (X11;...|    NULL|    1.1|\n",
      "|192.168.205.253|192.168.202.107|     1191|192.168.205.253|       80|   GET|          NULL|                NULL|           NULL|  NULL|   NULL|                NULL|               0|          NULL| [FLeXV6ZoEWi12BLol]|    [text/html]|               56|        301|Moved Permanently|  []|          1|2012-03-16 15:12:...| CQLw22eZ8JIDpJcik|/sdk/vimService?wsdl|                NULL|    NULL|    1.1|\n",
      "|   127.0.0.1:80|192.168.202.102|     1112| 192.168.22.152|       80|   GET|          NULL|                NULL|           NULL|  NULL|   NULL|                NULL|               0|          NULL|[FVOd8i2QjtprIkVwX1]|    [text/html]|               44|        200|               OK|  []|          1|2012-03-16 15:12:...|CKaLaf1peiUU3kmTV8|         /index.html|                NULL|    NULL|    1.1|\n",
      "| 192.168.202.78| 192.168.204.70|    46198| 192.168.202.78|       80|   GET|          NULL|                NULL|           NULL|  NULL|   NULL|http://192.168.20...|               0|          NULL|[FImEgi2hnmej8PAoui]|    [text/html]|            22249|        200|               OK|  []|          1|2012-03-16 15:12:...|CtEYyv1YQSocDA5oY6| /doku.php?id=start&|Mozilla/5.0 (X11;...|    NULL|    1.1|\n",
      "| 192.168.202.78| 192.168.204.70|    46200| 192.168.202.78|       80|   GET|          NULL|                NULL|           NULL|  NULL|   NULL|http://192.168.20...|               0|          NULL|                NULL|           NULL|                0|        304|     Not Modified|  []|          1|2012-03-16 15:12:...|CwrlVC14uolzZt7dPc|/lib/tpl/default/...|Mozilla/5.0 (X11;...|    NULL|    1.1|\n",
      "+---------------+---------------+---------+---------------+---------+------+--------------+--------------------+---------------+------+-------+--------------------+----------------+--------------+--------------------+---------------+-----------------+-----------+-----------------+----+-----------+--------------------+------------------+--------------------+--------------------+--------+-------+\n",
      "only showing top 5 rows\n",
      "\n",
      "+-----+-----+----+-----+----+---+-------+--------------+---------+-------------+---------+-----+------+-----------+-----+----------+-------------------+-----+----------+--------+----+--------+--------------------+------------------+\n",
      "|   AA|   RA|  RD|   TC|TTLs|  Z|answers|     id.orig_h|id.orig_p|    id.resp_h|id.resp_p|proto|qclass|qclass_name|qtype|qtype_name|              query|rcode|rcode_name|rejected| rtt|trans_id|                  ts|               uid|\n",
      "+-----+-----+----+-----+----+---+-------+--------------+---------+-------------+---------+-----+------+-----------+-----+----------+-------------------+-----+----------+--------+----+--------+--------------------+------------------+\n",
      "|false|false|true|false|NULL|  0|   NULL|192.168.204.70|    38795|192.168.207.4|       53|  tcp|     1| C_INTERNET|   28|      AAAA|creativecommons.org|    3|  NXDOMAIN|   false|NULL|   50106|2012-03-16 15:12:...| C1odva1GOl62Mubql|\n",
      "|false|false|true|false|NULL|  0|   NULL|192.168.204.70|    53918|192.168.207.4|       53|  udp|     1| C_INTERNET|   28|      AAAA|   www.dokuwiki.org|    3|  NXDOMAIN|   false|NULL|   52251|2012-03-16 15:12:...| CQLw22eZ8JIDpJcik|\n",
      "|false|false|true|false|NULL|  0|   NULL|192.168.204.70|    45058|192.168.207.4|       53|  udp|     1| C_INTERNET|   28|      AAAA|creativecommons.org|    3|  NXDOMAIN|   false|NULL|   61533|2012-03-16 15:12:...|CKaLaf1peiUU3kmTV8|\n",
      "|false|false|true|false|NULL|  0|   NULL|192.168.204.70|    56979|192.168.207.4|       53|  udp|     1| C_INTERNET|   28|      AAAA|        www.php.net|    3|  NXDOMAIN|   false|NULL|   37509|2012-03-16 15:12:...|CtEYyv1YQSocDA5oY6|\n",
      "|false|false|true|false|NULL|  0|   NULL|192.168.204.70|    35954|192.168.207.4|       53|  udp|     1| C_INTERNET|   28|      AAAA|   www.dokuwiki.org|    3|  NXDOMAIN|   false|NULL|   17572|2012-03-16 15:12:...|CwrlVC14uolzZt7dPc|\n",
      "+-----+-----+----+-----+----+---+-------+--------------+---------+-------------+---------+-----+------+-----------+-----+----------+-------------------+-----+----------+--------+----+--------+--------------------+------------------+\n",
      "only showing top 5 rows\n",
      "\n"
     ]
    }
   ],
   "source": [
    "df_http = df_http.withColumn(\"ts\", to_timestamp(df_http[\"ts\"]))\n",
    "df_dns = df_dns.withColumn(\"ts\", to_timestamp(df_dns[\"ts\"]))\n",
    "\n",
    "df_http.show(5)\n",
    "df_dns.show(5)"
   ]
  },
  {
   "cell_type": "code",
   "execution_count": 4,
   "id": "4bfb1344-90f0-4f56-bd3e-64d306654032",
   "metadata": {
    "tags": []
   },
   "outputs": [],
   "source": [
    "df_http.createOrReplaceTempView(\"http_log\")\n",
    "df_dns.createOrReplaceTempView(\"dns_log\")\n"
   ]
  },
  {
   "cell_type": "code",
   "execution_count": 11,
   "id": "2aa7b0c3-256b-456d-9fa9-e447e53d37aa",
   "metadata": {
    "tags": []
   },
   "outputs": [
    {
     "name": "stderr",
     "output_type": "stream",
     "text": [
      "                                                                                \r"
     ]
    },
    {
     "name": "stdout",
     "output_type": "stream",
     "text": [
      "+--------------------+--------------+\n",
      "|                 uri|accessed_count|\n",
      "+--------------------+--------------+\n",
      "|                   /|          9475|\n",
      "|/admin/config.php...|           556|\n",
      "|  /main.php?logout=1|           194|\n",
      "|/top.php?stuff=15...|           191|\n",
      "|            /top.php|           179|\n",
      "+--------------------+--------------+\n",
      "only showing top 5 rows\n",
      "\n"
     ]
    },
    {
     "name": "stderr",
     "output_type": "stream",
     "text": [
      "[Stage 151:===============================================>         (5 + 1) / 6]\r"
     ]
    },
    {
     "name": "stdout",
     "output_type": "stream",
     "text": [
      "7369\n"
     ]
    },
    {
     "name": "stderr",
     "output_type": "stream",
     "text": [
      "                                                                                \r"
     ]
    }
   ],
   "source": [
    "http_log_filtered = spark.sql(\"\"\"\n",
    "    select \n",
    "        uri, \n",
    "        count(*) as accessed_count\n",
    "    from \n",
    "        http_log\n",
    "    where \n",
    "        status_code = 200 and method = 'GET'\n",
    "    group by \n",
    "        uri\n",
    "    order by \n",
    "        accessed_count desc\n",
    "\"\"\")\n",
    "\n",
    "http_log_filtered.show(5)\n",
    "print(http_log_filtered.count())"
   ]
  },
  {
   "cell_type": "code",
   "execution_count": 6,
   "id": "8527c073-2d81-424d-a8a7-a7715bd3c10f",
   "metadata": {
    "tags": []
   },
   "outputs": [
    {
     "name": "stdout",
     "output_type": "stream",
     "text": [
      "+------------------+------------------+-----+\n",
      "|               uid|               uid|proto|\n",
      "+------------------+------------------+-----+\n",
      "| C1odva1GOl62Mubql| C1odva1GOl62Mubql|  tcp|\n",
      "| CQLw22eZ8JIDpJcik| CQLw22eZ8JIDpJcik|  udp|\n",
      "|CKaLaf1peiUU3kmTV8|CKaLaf1peiUU3kmTV8|  udp|\n",
      "|CtEYyv1YQSocDA5oY6|CtEYyv1YQSocDA5oY6|  udp|\n",
      "|CwrlVC14uolzZt7dPc|CwrlVC14uolzZt7dPc|  udp|\n",
      "| CzIyt32dXmMFfK0cI| CzIyt32dXmMFfK0cI|  udp|\n",
      "|Cvhzsd2JH09vFeDbJk|Cvhzsd2JH09vFeDbJk|  udp|\n",
      "|CPUpzb4oqzPYQZxnF7|CPUpzb4oqzPYQZxnF7|  udp|\n",
      "|CFWPlA4sGS8yUlrM7e|CFWPlA4sGS8yUlrM7e|  udp|\n",
      "| CFDlRY1TJ52tSimA6| CFDlRY1TJ52tSimA6|  udp|\n",
      "|CxWRZL3Ho8bdyWEiwk|CxWRZL3Ho8bdyWEiwk|  udp|\n",
      "|C0cFv53bfGO02GQsma|C0cFv53bfGO02GQsma|  tcp|\n",
      "| CscT2UI8EmU58fDuk| CscT2UI8EmU58fDuk|  tcp|\n",
      "| CUYrwDbRuXBxapQFa| CUYrwDbRuXBxapQFa|  udp|\n",
      "|CeiomQ3qdeS3ESqe99|CeiomQ3qdeS3ESqe99|  udp|\n",
      "|ClveGS2nXhopfdBvoa|ClveGS2nXhopfdBvoa|  tcp|\n",
      "| CxdESvjdAKHMAAvFg| CxdESvjdAKHMAAvFg|  udp|\n",
      "| CqNa6ry5SSxMwkhYc| CqNa6ry5SSxMwkhYc|  udp|\n",
      "|CoEJEF1ByMpkdNrZEd|CoEJEF1ByMpkdNrZEd|  tcp|\n",
      "|CYtIs11HTGPhO32Eka|CYtIs11HTGPhO32Eka|  udp|\n",
      "+------------------+------------------+-----+\n",
      "only showing top 20 rows\n",
      "\n"
     ]
    }
   ],
   "source": [
    "spark.sql(\"\"\"\n",
    "select \n",
    "    h.uid,\n",
    "    d.uid,\n",
    "    d.proto\n",
    "from\n",
    "    http_log h, \n",
    "    dns_log d\n",
    "where\n",
    "    trim(h.uid) = trim(d.uid)\n",
    "\"\"\").show()\n"
   ]
  },
  {
   "cell_type": "code",
   "execution_count": 12,
   "id": "bcf65a8c-eb71-442f-a460-840b26013fd5",
   "metadata": {
    "tags": []
   },
   "outputs": [
    {
     "name": "stdout",
     "output_type": "stream",
     "text": [
      "+---------------+---------------+---------+---------------+---------+------+--------------+--------------------+---------------+------+-------+--------------------+----------------+--------------+--------------------+---------------+-----------------+-----------+-----------------+----+-----------+--------------------+------------------+--------------------+--------------------+--------+-------+-----+-----+----+-----+----+---+-------+--------------+---------+-------------+---------+-----+------+-----------+-----+----------+-------------------+-----+----------+--------+----+--------+--------------------+\n",
      "|           host|      id.orig_h|id.orig_p|      id.resp_h|id.resp_p|method|orig_filenames|          orig_fuids|orig_mime_types|origin|proxied|            referrer|request_body_len|resp_filenames|          resp_fuids|resp_mime_types|response_body_len|status_code|       status_msg|tags|trans_depth|                  ts|               uid|                 uri|          user_agent|username|version|   AA|   RA|  RD|   TC|TTLs|  Z|answers|     id.orig_h|id.orig_p|    id.resp_h|id.resp_p|proto|qclass|qclass_name|qtype|qtype_name|              query|rcode|rcode_name|rejected| rtt|trans_id|                  ts|\n",
      "+---------------+---------------+---------+---------------+---------+------+--------------+--------------------+---------------+------+-------+--------------------+----------------+--------------+--------------------+---------------+-----------------+-----------+-----------------+----+-----------+--------------------+------------------+--------------------+--------------------+--------+-------+-----+-----+----+-----+----+---+-------+--------------+---------+-------------+---------+-----+------+-----------+-----+----------+-------------------+-----+----------+--------+----+--------+--------------------+\n",
      "| 192.168.202.78| 192.168.204.70|    46197| 192.168.202.78|       80|  POST|          NULL|[FPp8eT1dDgDcIzdRT7]|   [text/plain]|  NULL|   NULL|http://192.168.20...|            4490|          NULL|                NULL|           NULL|                0|        302|            Found|  []|          1|2012-03-16 15:12:...| C1odva1GOl62Mubql|           /doku.php|Mozilla/5.0 (X11;...|    NULL|    1.1|false|false|true|false|NULL|  0|   NULL|192.168.204.70|    38795|192.168.207.4|       53|  tcp|     1| C_INTERNET|   28|      AAAA|creativecommons.org|    3|  NXDOMAIN|   false|NULL|   50106|2012-03-16 15:12:...|\n",
      "|192.168.205.253|192.168.202.107|     1191|192.168.205.253|       80|   GET|          NULL|                NULL|           NULL|  NULL|   NULL|                NULL|               0|          NULL| [FLeXV6ZoEWi12BLol]|    [text/html]|               56|        301|Moved Permanently|  []|          1|2012-03-16 15:12:...| CQLw22eZ8JIDpJcik|/sdk/vimService?wsdl|                NULL|    NULL|    1.1|false|false|true|false|NULL|  0|   NULL|192.168.204.70|    53918|192.168.207.4|       53|  udp|     1| C_INTERNET|   28|      AAAA|   www.dokuwiki.org|    3|  NXDOMAIN|   false|NULL|   52251|2012-03-16 15:12:...|\n",
      "|   127.0.0.1:80|192.168.202.102|     1112| 192.168.22.152|       80|   GET|          NULL|                NULL|           NULL|  NULL|   NULL|                NULL|               0|          NULL|[FVOd8i2QjtprIkVwX1]|    [text/html]|               44|        200|               OK|  []|          1|2012-03-16 15:12:...|CKaLaf1peiUU3kmTV8|         /index.html|                NULL|    NULL|    1.1|false|false|true|false|NULL|  0|   NULL|192.168.204.70|    45058|192.168.207.4|       53|  udp|     1| C_INTERNET|   28|      AAAA|creativecommons.org|    3|  NXDOMAIN|   false|NULL|   61533|2012-03-16 15:12:...|\n",
      "| 192.168.202.78| 192.168.204.70|    46198| 192.168.202.78|       80|   GET|          NULL|                NULL|           NULL|  NULL|   NULL|http://192.168.20...|               0|          NULL|[FImEgi2hnmej8PAoui]|    [text/html]|            22249|        200|               OK|  []|          1|2012-03-16 15:12:...|CtEYyv1YQSocDA5oY6| /doku.php?id=start&|Mozilla/5.0 (X11;...|    NULL|    1.1|false|false|true|false|NULL|  0|   NULL|192.168.204.70|    56979|192.168.207.4|       53|  udp|     1| C_INTERNET|   28|      AAAA|        www.php.net|    3|  NXDOMAIN|   false|NULL|   37509|2012-03-16 15:12:...|\n",
      "| 192.168.202.78| 192.168.204.70|    46200| 192.168.202.78|       80|   GET|          NULL|                NULL|           NULL|  NULL|   NULL|http://192.168.20...|               0|          NULL|                NULL|           NULL|                0|        304|     Not Modified|  []|          1|2012-03-16 15:12:...|CwrlVC14uolzZt7dPc|/lib/tpl/default/...|Mozilla/5.0 (X11;...|    NULL|    1.1|false|false|true|false|NULL|  0|   NULL|192.168.204.70|    35954|192.168.207.4|       53|  udp|     1| C_INTERNET|   28|      AAAA|   www.dokuwiki.org|    3|  NXDOMAIN|   false|NULL|   17572|2012-03-16 15:12:...|\n",
      "+---------------+---------------+---------+---------------+---------+------+--------------+--------------------+---------------+------+-------+--------------------+----------------+--------------+--------------------+---------------+-----------------+-----------+-----------------+----+-----------+--------------------+------------------+--------------------+--------------------+--------+-------+-----+-----+----+-----+----+---+-------+--------------+---------+-------------+---------+-----+------+-----------+-----+----------+-------------------+-----+----------+--------+----+--------+--------------------+\n",
      "only showing top 5 rows\n",
      "\n"
     ]
    }
   ],
   "source": [
    "merged_df = spark.sql(\"\"\"\n",
    "    select \n",
    "        *\n",
    "    from\n",
    "        http_log h, \n",
    "        dns_log d\n",
    "    where\n",
    "        h.uid = d.uid\n",
    "\"\"\")\n",
    "merged_df = merged_df.drop(col(\"d.uid\"))\n",
    "merged_df.show(5)"
   ]
  },
  {
   "cell_type": "code",
   "execution_count": 8,
   "id": "7893bba8-259c-4beb-a838-57f2586943f9",
   "metadata": {
    "tags": []
   },
   "outputs": [
    {
     "name": "stderr",
     "output_type": "stream",
     "text": [
      "[Stage 20:================================================>         (5 + 1) / 6]\r"
     ]
    },
    {
     "name": "stdout",
     "output_type": "stream",
     "text": [
      "+-----+\n",
      "|proto|\n",
      "+-----+\n",
      "|  tcp|\n",
      "|  udp|\n",
      "+-----+\n",
      "\n"
     ]
    },
    {
     "name": "stderr",
     "output_type": "stream",
     "text": [
      "                                                                                \r"
     ]
    }
   ],
   "source": [
    "merged_df.select([\"proto\"]).dropDuplicates().show()"
   ]
  },
  {
   "cell_type": "code",
   "execution_count": 29,
   "id": "0fee56f0-c092-4d3b-b205-b53315e716c3",
   "metadata": {
    "tags": []
   },
   "outputs": [
    {
     "name": "stderr",
     "output_type": "stream",
     "text": [
      "                                                                                \r"
     ]
    }
   ],
   "source": [
    "uri_set = set(http_log_filtered.select(\"uri\").rdd.flatMap(lambda x: x).collect())\n",
    "filtered_df = merged_df.filter(col(\"uri\").isin(uri_set))\n",
    "grouped_df = filtered_df.groupBy(\"uri\", \"proto\").agg(count(\"*\").alias(\"count\"))\n",
    "tcp_df = grouped_df.filter(grouped_df[\"proto\"] == \"tcp\")\n",
    "\n",
    "total_counts = filtered_df.groupBy(\"uri\").agg(count(\"*\").alias(\"total_count\"))\n",
    "joined_df = tcp_df.join(total_counts, \"uri\")\n",
    "result_df = joined_df.withColumn(\"tcp_percentage\", (col(\"count\") / col(\"total_count\")) * 100)\n",
    "result_df = result_df.select(\"uri\", \"tcp_percentage\")\n"
   ]
  },
  {
   "cell_type": "code",
   "execution_count": 30,
   "id": "86211ac8-d09b-4e35-bd03-604cef945a2f",
   "metadata": {
    "tags": []
   },
   "outputs": [
    {
     "name": "stderr",
     "output_type": "stream",
     "text": [
      "24/04/08 09:48:12 WARN DAGScheduler: Broadcasting large task binary with size 1385.3 KiB\n",
      "24/04/08 09:48:12 WARN DAGScheduler: Broadcasting large task binary with size 1382.7 KiB\n",
      "24/04/08 09:48:21 WARN DAGScheduler: Broadcasting large task binary with size 1385.0 KiB\n",
      "24/04/08 09:48:21 WARN DAGScheduler: Broadcasting large task binary with size 2.3 MiB\n"
     ]
    },
    {
     "name": "stdout",
     "output_type": "stream",
     "text": [
      "+-----------------------------------------+------------------+\n",
      "|uri                                      |tcp_percentage    |\n",
      "+-----------------------------------------+------------------+\n",
      "|/lib/exe/indexer.php?id=start&1331903710 |100.0             |\n",
      "|/lib/tpl/default/images/button-donate.gif|16.666666666666664|\n",
      "|/lib/tpl/default/images/buttonshadow.png |50.0              |\n",
      "|/lib/tpl/default/images/button-dw.png    |33.33333333333333 |\n",
      "|/lib/tpl/default/images/button-xhtml.png |16.666666666666664|\n",
      "+-----------------------------------------+------------------+\n",
      "only showing top 5 rows\n",
      "\n"
     ]
    },
    {
     "name": "stderr",
     "output_type": "stream",
     "text": [
      "24/04/08 09:48:22 WARN DAGScheduler: Broadcasting large task binary with size 1383.0 KiB\n",
      "24/04/08 09:48:22 WARN DAGScheduler: Broadcasting large task binary with size 1380.1 KiB\n",
      "24/04/08 09:48:31 WARN DAGScheduler: Broadcasting large task binary with size 1387.1 KiB\n",
      "24/04/08 09:48:31 WARN DAGScheduler: Broadcasting large task binary with size 2.3 MiB\n"
     ]
    },
    {
     "data": {
      "text/plain": [
       "67"
      ]
     },
     "execution_count": 30,
     "metadata": {},
     "output_type": "execute_result"
    }
   ],
   "source": [
    "result_df.show(5, truncate = False)\n",
    "result_df.count()"
   ]
  },
  {
   "cell_type": "code",
   "execution_count": 44,
   "id": "b90648ac-117a-4316-b2a8-ded94d83f0ae",
   "metadata": {
    "tags": []
   },
   "outputs": [
    {
     "name": "stderr",
     "output_type": "stream",
     "text": [
      "                                                                                \r"
     ]
    },
    {
     "name": "stdout",
     "output_type": "stream",
     "text": [
      "+--------------------------------------------------------------------------------------------+------------------+\n",
      "|uri                                                                                         |tcp_percentage    |\n",
      "+--------------------------------------------------------------------------------------------+------------------+\n",
      "|/lib/exe/indexer.php?id=start&1331903710                                                    |100.00000000000000|\n",
      "|/smconf.nsf                                                                                 |100.00000000000000|\n",
      "|/classes/                                                                                   |100.00000000000000|\n",
      "|/cgilib/                                                                                    |100.00000000000000|\n",
      "|/_private/                                                                                  |100.00000000000000|\n",
      "|/ccards/                                                                                    |100.00000000000000|\n",
      "|/admin_/                                                                                    |100.00000000000000|\n",
      "|/asp/                                                                                       |100.00000000000000|\n",
      "|/access/                                                                                    |100.00000000000000|\n",
      "|/cgi/                                                                                       |100.00000000000000|\n",
      "|/demo/                                                                                      |100.00000000000000|\n",
      "|/cgi-weddico/                                                                               |100.00000000000000|\n",
      "|/cgi-bin2/                                                                                  |100.00000000000000|\n",
      "|/admin-bak/                                                                                 |100.00000000000000|\n",
      "|/_errors/                                                                                   |100.00000000000000|\n",
      "|/customers/                                                                                 |100.00000000000000|\n",
      "|/datafiles/                                                                                 |100.00000000000000|\n",
      "|/~admin/                                                                                    |100.00000000000000|\n",
      "|/_tests/                                                                                    |100.00000000000000|\n",
      "|/cgi-shl/                                                                                   |100.00000000000000|\n",
      "|/_vti_bot/                                                                                  |100.00000000000000|\n",
      "|/backups/                                                                                   |100.00000000000000|\n",
      "|/demos/                                                                                     |100.00000000000000|\n",
      "|/cgi-lib/                                                                                   |100.00000000000000|\n",
      "|/adminuser/                                                                                 |100.00000000000000|\n",
      "|/lib/tpl/default/images/buttonshadow.png                                                    |50.00000000000000 |\n",
      "|/lib/tpl/default/images/inputshadow.png                                                     |50.00000000000000 |\n",
      "|/Install/                                                                                   |41.66666666666667 |\n",
      "|/News/                                                                                      |41.66666666666667 |\n",
      "|/Readme/                                                                                    |41.66666666666667 |\n",
      "|/AdminWeb/                                                                                  |41.66666666666667 |\n",
      "|/StoreDB/                                                                                   |41.66666666666667 |\n",
      "|/AdvWebAdmin/                                                                               |41.66666666666667 |\n",
      "|/Stats/                                                                                     |41.66666666666667 |\n",
      "|/Admin_files/                                                                               |41.66666666666667 |\n",
      "|/PDG_Cart/                                                                                  |41.66666666666667 |\n",
      "|/README/                                                                                    |41.66666666666667 |\n",
      "|/Administration/                                                                            |41.66666666666667 |\n",
      "|/Mail/                                                                                      |41.66666666666667 |\n",
      "|/lib/tpl/default/images/button-dw.png                                                       |33.33333333333333 |\n",
      "|/smtime.nsf                                                                                 |33.33333333333333 |\n",
      "|/smquar.nsf                                                                                 |33.33333333333333 |\n",
      "|/WebTrend/                                                                                  |33.33333333333333 |\n",
      "|/WebCalendar/                                                                               |33.33333333333333 |\n",
      "|/ToDo/                                                                                      |33.33333333333333 |\n",
      "|/robots.txt                                                                                 |25.00000000000000 |\n",
      "|/doku.php                                                                                   |20.00000000000000 |\n",
      "|/_vti_txt/                                                                                  |20.00000000000000 |\n",
      "|/favicon.ico                                                                                |18.33333333333333 |\n",
      "|/lib/tpl/default/images/button-donate.gif                                                   |16.66666666666667 |\n",
      "|/lib/tpl/default/images/button-xhtml.png                                                    |16.66666666666667 |\n",
      "|/lib/images/license/button/publicdomain.png                                                 |16.66666666666667 |\n",
      "|/lib/tpl/default/images/button-rss.png                                                      |16.66666666666667 |\n",
      "|/lib/tpl/default/images/button-css.png                                                      |16.66666666666667 |\n",
      "|/lib/tpl/default/images/link_icon.gif                                                       |16.66666666666667 |\n",
      "|/get_latest_id.php                                                                          |16.66666666666667 |\n",
      "|/_vti_pvt/                                                                                  |14.28571428571429 |\n",
      "|/                                                                                           |11.71497584541063 |\n",
      "|/nice ports,/Trinity.txt.bak                                                                |11.26760563380282 |\n",
      "|/_vti_bin/shtml.exe                                                                         |11.11111111111111 |\n",
      "|/_vti_bin/shtml.dll                                                                         |11.11111111111111 |\n",
      "|/_vti_bin/_vti_aut/author.exe                                                               |11.11111111111111 |\n",
      "|/_vti_bin/_vti_adm/admin.dll                                                                |11.11111111111111 |\n",
      "|/_vti_bin/_vti_aut/author.dll                                                               |11.11111111111111 |\n",
      "|/_vti_bin/_vti_adm/admin.exe                                                                |11.11111111111111 |\n",
      "|/_vti_bin/fpcount.exe?Page=default.asp|Image=3                                              |11.11111111111111 |\n",
      "|/admin/config.php?type=tool&display=index&quietmode=1&info=stats&restrictmods=core/dashboard|6.18556701030928  |\n",
      "|/lib/tpl/default/images/button-php.gif                                                      |0.00000000000000  |\n",
      "+--------------------------------------------------------------------------------------------+------------------+\n",
      "only showing top 68 rows\n",
      "\n"
     ]
    },
    {
     "name": "stderr",
     "output_type": "stream",
     "text": [
      "                                                                                \r"
     ]
    },
    {
     "data": {
      "text/plain": [
       "389"
      ]
     },
     "execution_count": 44,
     "metadata": {},
     "output_type": "execute_result"
    }
   ],
   "source": [
    "result_df_sql = spark.sql(\"\"\"\n",
    "    select\n",
    "        h.uri,\n",
    "        100.0 * sum(case when proto = \"tcp\" then 1 else 0 end) / count(*) as tcp_percentage\n",
    "    from\n",
    "        (\n",
    "            select\n",
    "                uri\n",
    "            from\n",
    "                http_log\n",
    "            where \n",
    "                status_code = 200 \n",
    "            and \n",
    "                method = 'GET'\n",
    "            group by\n",
    "                uri\n",
    "        ) as selected_uris,\n",
    "        http_log h,\n",
    "        dns_log d\n",
    "    where \n",
    "        h.uid = d.uid\n",
    "    and \n",
    "        h.uri = selected_uris.uri\n",
    "    group by\n",
    "        h.uri\n",
    "    order by\n",
    "        tcp_percentage desc\n",
    "\"\"\")\n",
    "result_df_sql.show(68, truncate = False)\n",
    "result_df_sql.count()"
   ]
  },
  {
   "cell_type": "code",
   "execution_count": 17,
   "id": "7293c19f-e37f-4392-aab6-83e995d14ed8",
   "metadata": {
    "tags": []
   },
   "outputs": [
    {
     "name": "stderr",
     "output_type": "stream",
     "text": [
      "                                                                                \r"
     ]
    },
    {
     "name": "stdout",
     "output_type": "stream",
     "text": [
      "+-----------+------+--------------------+\n",
      "|     method| count|          percentage|\n",
      "+-----------+------+--------------------+\n",
      "|       some|    17|0.009147358565694177|\n",
      "|     RDWWEM|     1|5.380799156290692E-4|\n",
      "|    OPTIONS|  2388|  1.2849348385222175|\n",
      "|     NESSUS|    13|0.006995038903177901|\n",
      "|       POST| 40184|  21.622203329638516|\n",
      "|       NULL|  1376|  0.7403979639055993|\n",
      "|     DELETE|    22|0.011837758143839522|\n",
      "|     Secure|    17|0.009147358565694177|\n",
      "|   GNUTELLA|    34|0.018294717131388354|\n",
      "|     MCPWYV|     1|5.380799156290692E-4|\n",
      "|        PUT|    23|0.012375838059468592|\n",
      "|   PROPFIND|    40| 0.02152319662516277|\n",
      "|      TRACK|    13|0.006995038903177901|\n",
      "|       HEAD|  4805|   2.585473994597678|\n",
      "|      TRACE|    23|0.012375838059468592|\n",
      "|        GET|136678|   73.54368670834992|\n",
      "|     SEARCH|    72|0.038741753925292985|\n",
      "|     EAILCX|     1|5.380799156290692E-4|\n",
      "|   DESCRIBE|     4|0.002152319662516277|\n",
      "|RPC_CONNECT|    35|0.018832797047017423|\n",
      "+-----------+------+--------------------+\n",
      "only showing top 20 rows\n",
      "\n"
     ]
    },
    {
     "name": "stderr",
     "output_type": "stream",
     "text": [
      "                                                                                \r"
     ]
    }
   ],
   "source": [
    "method_counts = df_http.groupBy(\"method\").agg(count(\"*\").alias(\"count\"))\n",
    "\n",
    "total_count = method_counts.selectExpr(\"sum(count) as total\").collect()[0][\"total\"]\n",
    "\n",
    "method_percentages = method_counts.withColumn(\"percentage\", (col(\"count\") / total_count) * 100)\n",
    "\n",
    "method_percentages.show()\n",
    "\n",
    "pie_data = method_percentages.toPandas()"
   ]
  },
  {
   "cell_type": "code",
   "execution_count": 22,
   "id": "44333a4a-04c2-4712-927e-43a552d1b2fe",
   "metadata": {
    "tags": []
   },
   "outputs": [
    {
     "name": "stderr",
     "output_type": "stream",
     "text": [
      "                                                                                \r"
     ]
    },
    {
     "name": "stdout",
     "output_type": "stream",
     "text": [
      "Pie chart of method some generated.\n"
     ]
    },
    {
     "name": "stderr",
     "output_type": "stream",
     "text": [
      "                                                                                \r"
     ]
    },
    {
     "name": "stdout",
     "output_type": "stream",
     "text": [
      "Pie chart of method RDWWEM generated.\n"
     ]
    },
    {
     "name": "stderr",
     "output_type": "stream",
     "text": [
      "                                                                                \r"
     ]
    },
    {
     "name": "stdout",
     "output_type": "stream",
     "text": [
      "Pie chart of method OPTIONS generated.\n"
     ]
    },
    {
     "name": "stderr",
     "output_type": "stream",
     "text": [
      "                                                                                \r"
     ]
    },
    {
     "name": "stdout",
     "output_type": "stream",
     "text": [
      "Pie chart of method NESSUS generated.\n"
     ]
    },
    {
     "name": "stderr",
     "output_type": "stream",
     "text": [
      "                                                                                \r"
     ]
    },
    {
     "name": "stdout",
     "output_type": "stream",
     "text": [
      "Pie chart of method POST generated.\n",
      "Pie chart of method None generated.\n"
     ]
    },
    {
     "name": "stderr",
     "output_type": "stream",
     "text": [
      "                                                                                \r"
     ]
    },
    {
     "name": "stdout",
     "output_type": "stream",
     "text": [
      "Pie chart of method DELETE generated.\n"
     ]
    },
    {
     "name": "stderr",
     "output_type": "stream",
     "text": [
      "                                                                                \r"
     ]
    },
    {
     "name": "stdout",
     "output_type": "stream",
     "text": [
      "Pie chart of method Secure generated.\n"
     ]
    },
    {
     "name": "stderr",
     "output_type": "stream",
     "text": [
      "                                                                                \r"
     ]
    },
    {
     "name": "stdout",
     "output_type": "stream",
     "text": [
      "Pie chart of method GNUTELLA generated.\n"
     ]
    },
    {
     "name": "stderr",
     "output_type": "stream",
     "text": [
      "                                                                                \r"
     ]
    },
    {
     "name": "stdout",
     "output_type": "stream",
     "text": [
      "Pie chart of method MCPWYV generated.\n"
     ]
    },
    {
     "name": "stderr",
     "output_type": "stream",
     "text": [
      "                                                                                \r"
     ]
    },
    {
     "name": "stdout",
     "output_type": "stream",
     "text": [
      "Pie chart of method PUT generated.\n"
     ]
    },
    {
     "name": "stderr",
     "output_type": "stream",
     "text": [
      "                                                                                \r"
     ]
    },
    {
     "name": "stdout",
     "output_type": "stream",
     "text": [
      "Pie chart of method PROPFIND generated.\n"
     ]
    },
    {
     "name": "stderr",
     "output_type": "stream",
     "text": [
      "                                                                                \r"
     ]
    },
    {
     "name": "stdout",
     "output_type": "stream",
     "text": [
      "Pie chart of method TRACK generated.\n"
     ]
    },
    {
     "name": "stderr",
     "output_type": "stream",
     "text": [
      "                                                                                \r"
     ]
    },
    {
     "name": "stdout",
     "output_type": "stream",
     "text": [
      "Pie chart of method HEAD generated.\n"
     ]
    },
    {
     "name": "stderr",
     "output_type": "stream",
     "text": [
      "                                                                                \r"
     ]
    },
    {
     "name": "stdout",
     "output_type": "stream",
     "text": [
      "Pie chart of method TRACE generated.\n"
     ]
    },
    {
     "name": "stderr",
     "output_type": "stream",
     "text": [
      "                                                                                \r"
     ]
    },
    {
     "name": "stdout",
     "output_type": "stream",
     "text": [
      "Pie chart of method GET generated.\n"
     ]
    },
    {
     "name": "stderr",
     "output_type": "stream",
     "text": [
      "                                                                                \r"
     ]
    },
    {
     "name": "stdout",
     "output_type": "stream",
     "text": [
      "Pie chart of method SEARCH generated.\n"
     ]
    },
    {
     "name": "stderr",
     "output_type": "stream",
     "text": [
      "                                                                                \r"
     ]
    },
    {
     "name": "stdout",
     "output_type": "stream",
     "text": [
      "Pie chart of method EAILCX generated.\n"
     ]
    },
    {
     "name": "stderr",
     "output_type": "stream",
     "text": [
      "                                                                                \r"
     ]
    },
    {
     "name": "stdout",
     "output_type": "stream",
     "text": [
      "Pie chart of method DESCRIBE generated.\n"
     ]
    },
    {
     "name": "stderr",
     "output_type": "stream",
     "text": [
      "                                                                                \r"
     ]
    },
    {
     "name": "stdout",
     "output_type": "stream",
     "text": [
      "Pie chart of method RPC_CONNECT generated.\n"
     ]
    },
    {
     "name": "stderr",
     "output_type": "stream",
     "text": [
      "                                                                                \r"
     ]
    },
    {
     "name": "stdout",
     "output_type": "stream",
     "text": [
      "Pie chart of method CONNECT generated.\n"
     ]
    },
    {
     "name": "stderr",
     "output_type": "stream",
     "text": [
      "                                                                                \r"
     ]
    },
    {
     "name": "stdout",
     "output_type": "stream",
     "text": [
      "Pie chart of method NVKHMY generated.\n"
     ]
    },
    {
     "name": "stderr",
     "output_type": "stream",
     "text": [
      "                                                                                \r"
     ]
    },
    {
     "name": "stdout",
     "output_type": "stream",
     "text": [
      "Pie chart of method user generated.\n"
     ]
    },
    {
     "name": "stderr",
     "output_type": "stream",
     "text": [
      "                                                                                \r"
     ]
    },
    {
     "name": "stdout",
     "output_type": "stream",
     "text": [
      "Pie chart of method PCKOIZ generated.\n"
     ]
    },
    {
     "name": "stderr",
     "output_type": "stream",
     "text": [
      "                                                                                \r"
     ]
    },
    {
     "name": "stdout",
     "output_type": "stream",
     "text": [
      "Pie chart of method KTGFFX generated.\n"
     ]
    },
    {
     "name": "stderr",
     "output_type": "stream",
     "text": [
      "                                                                                \r"
     ]
    },
    {
     "name": "stdout",
     "output_type": "stream",
     "text": [
      "Pie chart of method XORXZY generated.\n"
     ]
    },
    {
     "name": "stderr",
     "output_type": "stream",
     "text": [
      "                                                                                \r"
     ]
    },
    {
     "name": "stdout",
     "output_type": "stream",
     "text": [
      "Pie chart of method BXNTPG generated.\n"
     ]
    },
    {
     "name": "stderr",
     "output_type": "stream",
     "text": [
      "                                                                                \r"
     ]
    },
    {
     "name": "stdout",
     "output_type": "stream",
     "text": [
      "Pie chart of method OEDNGQ generated.\n"
     ]
    },
    {
     "name": "stderr",
     "output_type": "stream",
     "text": [
      "                                                                                \r"
     ]
    },
    {
     "name": "stdout",
     "output_type": "stream",
     "text": [
      "Pie chart of method FHGDMH generated.\n"
     ]
    },
    {
     "name": "stderr",
     "output_type": "stream",
     "text": [
      "                                                                                \r"
     ]
    },
    {
     "name": "stdout",
     "output_type": "stream",
     "text": [
      "Pie chart of method YVFUKU generated.\n"
     ]
    },
    {
     "name": "stderr",
     "output_type": "stream",
     "text": [
      "                                                                                \r"
     ]
    },
    {
     "name": "stdout",
     "output_type": "stream",
     "text": [
      "Pie chart of method UIZUPR generated.\n"
     ]
    },
    {
     "name": "stderr",
     "output_type": "stream",
     "text": [
      "                                                                                \r"
     ]
    },
    {
     "name": "stdout",
     "output_type": "stream",
     "text": [
      "Pie chart of method FPANCV generated.\n"
     ]
    },
    {
     "name": "stderr",
     "output_type": "stream",
     "text": [
      "                                                                                \r"
     ]
    },
    {
     "name": "stdout",
     "output_type": "stream",
     "text": [
      "Pie chart of method JZUIPY generated.\n"
     ]
    },
    {
     "name": "stderr",
     "output_type": "stream",
     "text": [
      "                                                                                \r"
     ]
    },
    {
     "name": "stdout",
     "output_type": "stream",
     "text": [
      "Pie chart of method GATMQW generated.\n"
     ]
    },
    {
     "name": "stderr",
     "output_type": "stream",
     "text": [
      "                                                                                \r"
     ]
    },
    {
     "name": "stdout",
     "output_type": "stream",
     "text": [
      "Pie chart of method EQAONR generated.\n"
     ]
    },
    {
     "name": "stderr",
     "output_type": "stream",
     "text": [
      "[Stage 459:===============================================>         (5 + 1) / 6]\r"
     ]
    },
    {
     "name": "stdout",
     "output_type": "stream",
     "text": [
      "Pie chart of method WOIGAG generated.\n"
     ]
    },
    {
     "name": "stderr",
     "output_type": "stream",
     "text": [
      "                                                                                \r"
     ]
    }
   ],
   "source": [
    "for method in pie_data[\"method\"]:\n",
    "    method_df = df_http.filter(df_http[\"method\"] == method)\n",
    "    status_counts = method_df.groupBy(\"status_code\").agg(count(\"*\").alias(\"count\"))\n",
    "    status_data = status_counts.toPandas()\n",
    "    status_data[\"status_code\"] = status_data[\"status_code\"].fillna(0).astype(int)\n",
    "    plt.figure(figsize=(8, 6), dpi = 160)\n",
    "    plt.pie(status_data[\"count\"], labels=status_data[\"status_code\"])\n",
    "    plt.title(f\"Status Code Distribution for Method: {method}\")\n",
    "    plt.savefig(f\"./output/task1/pie_chart_{method}.png\")\n",
    "    plt.close()\n",
    "    print(f\"Pie chart of method {method} generated.\")"
   ]
  }
 ],
 "metadata": {
  "kernelspec": {
   "display_name": "Python 3 (ipykernel)",
   "language": "python",
   "name": "python3"
  },
  "language_info": {
   "codemirror_mode": {
    "name": "ipython",
    "version": 3
   },
   "file_extension": ".py",
   "mimetype": "text/x-python",
   "name": "python",
   "nbconvert_exporter": "python",
   "pygments_lexer": "ipython3",
   "version": "3.11.7"
  }
 },
 "nbformat": 4,
 "nbformat_minor": 5
}
