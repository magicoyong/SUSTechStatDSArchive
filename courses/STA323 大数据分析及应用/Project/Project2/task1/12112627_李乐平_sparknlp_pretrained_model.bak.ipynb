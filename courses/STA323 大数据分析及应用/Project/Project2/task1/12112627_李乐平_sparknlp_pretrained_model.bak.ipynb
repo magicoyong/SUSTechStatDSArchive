{
  "cells": [
    {
      "cell_type": "markdown",
      "metadata": {
        "id": "lYYRQmIKIZ-1"
      },
      "source": [
        "## Colab Setup"
      ]
    },
    {
      "cell_type": "code",
      "execution_count": 1,
      "metadata": {
        "id": "bG6E9KhzIatv",
        "outputId": "e6dd0a63-ee26-495d-d85f-1bacadc7a628",
        "colab": {
          "base_uri": "https://localhost:8080/"
        }
      },
      "outputs": [
        {
          "output_type": "stream",
          "name": "stdout",
          "text": [
            "\u001b[2K     \u001b[90m━━━━━━━━━━━━━━━━━━━━━━━━━━━━━━━━━━━━━━━━\u001b[0m \u001b[32m310.8/310.8 MB\u001b[0m \u001b[31m2.3 MB/s\u001b[0m eta \u001b[36m0:00:00\u001b[0m\n",
            "\u001b[?25h  Preparing metadata (setup.py) ... \u001b[?25l\u001b[?25hdone\n",
            "\u001b[2K     \u001b[90m━━━━━━━━━━━━━━━━━━━━━━━━━━━━━━━━━━━━━━━━\u001b[0m \u001b[32m565.0/565.0 kB\u001b[0m \u001b[31m33.0 MB/s\u001b[0m eta \u001b[36m0:00:00\u001b[0m\n",
            "\u001b[?25h  Building wheel for pyspark (setup.py) ... \u001b[?25l\u001b[?25hdone\n"
          ]
        }
      ],
      "source": [
        "!pip install -q pyspark==3.4.1 spark-nlp==5.3.2"
      ]
    },
    {
      "cell_type": "code",
      "execution_count": 2,
      "metadata": {
        "colab": {
          "base_uri": "https://localhost:8080/",
          "height": 254
        },
        "id": "E1PhbeBKKYyT",
        "outputId": "962d8796-0421-4a27-cca9-e5b5dc6ecbf7"
      },
      "outputs": [
        {
          "output_type": "stream",
          "name": "stdout",
          "text": [
            "Spark NLP version 5.3.2\n",
            "Apache Spark version: 3.4.1\n"
          ]
        },
        {
          "output_type": "execute_result",
          "data": {
            "text/plain": [
              "<pyspark.sql.session.SparkSession at 0x7ae1a8929e70>"
            ],
            "text/html": [
              "\n",
              "            <div>\n",
              "                <p><b>SparkSession - in-memory</b></p>\n",
              "                \n",
              "        <div>\n",
              "            <p><b>SparkContext</b></p>\n",
              "\n",
              "            <p><a href=\"http://166125f558c3:4040\">Spark UI</a></p>\n",
              "\n",
              "            <dl>\n",
              "              <dt>Version</dt>\n",
              "                <dd><code>v3.4.1</code></dd>\n",
              "              <dt>Master</dt>\n",
              "                <dd><code>local[*]</code></dd>\n",
              "              <dt>AppName</dt>\n",
              "                <dd><code>Spark NLP</code></dd>\n",
              "            </dl>\n",
              "        </div>\n",
              "        \n",
              "            </div>\n",
              "        "
            ]
          },
          "metadata": {},
          "execution_count": 2
        }
      ],
      "source": [
        "import sparknlp\n",
        "\n",
        "spark = sparknlp.start()\n",
        "\n",
        "from sparknlp.base import *\n",
        "from sparknlp.annotator import *\n",
        "\n",
        "print(\"Spark NLP version\", sparknlp.version())\n",
        "print(\"Apache Spark version:\", spark.version)\n",
        "\n",
        "spark"
      ]
    },
    {
      "cell_type": "markdown",
      "metadata": {
        "id": "09BYgkOkIsV4"
      },
      "source": [
        "## T5Model"
      ]
    },
    {
      "cell_type": "code",
      "execution_count": 9,
      "metadata": {
        "id": "HbYUnHwPoFq2"
      },
      "outputs": [],
      "source": [
        "from pyspark.ml import Pipeline"
      ]
    },
    {
      "cell_type": "code",
      "execution_count": 10,
      "metadata": {
        "id": "1zuJoZq-Saer"
      },
      "outputs": [],
      "source": [
        "# !wget -q -O news_category_test.csv https://s3.amazonaws.com/auxdata.johnsnowlabs.com/public/resources/en/classifier-dl/news_Category/news_category_test.csv"
      ]
    },
    {
      "cell_type": "code",
      "source": [
        "import numpy as np\n",
        "import pandas as pd"
      ],
      "metadata": {
        "id": "GTU0FTxD8Eq8"
      },
      "execution_count": 11,
      "outputs": []
    },
    {
      "cell_type": "code",
      "execution_count": 12,
      "metadata": {
        "colab": {
          "base_uri": "https://localhost:8080/"
        },
        "id": "ELxwZNaTSd1K",
        "outputId": "5abf9753-1236-4138-9ee2-aebdc809baa7"
      },
      "outputs": [
        {
          "output_type": "stream",
          "name": "stdout",
          "text": [
            "+------------------------+-------+--------------------------------------------------+--------------------------------------------------+--------------------------------------------------+--------------------------------------------------+\n",
            "|                      id|  title|                                           context|                                          question|                                           answers|                                              text|\n",
            "+------------------------+-------+--------------------------------------------------+--------------------------------------------------+--------------------------------------------------+--------------------------------------------------+\n",
            "|56ddde6b9a695914005b9628|Normans|The Normans (Norman: Nourmands; French: Normand...|              In what country is Normandy located?|{[France, France, France, France], [159, 159, 1...|question: In what country is Normandy located? ...|\n",
            "|56ddde6b9a695914005b9629|Normans|The Normans (Norman: Nourmands; French: Normand...|                When were the Normans in Normandy?|{[10th and 11th centuries, in the 10th and 11th...|question: When were the Normans in Normandy? co...|\n",
            "|56ddde6b9a695914005b962a|Normans|The Normans (Norman: Nourmands; French: Normand...|     From which countries did the Norse originate?|{[Denmark, Iceland and Norway, Denmark, Iceland...|question: From which countries did the Norse or...|\n",
            "|56ddde6b9a695914005b962b|Normans|The Normans (Norman: Nourmands; French: Normand...|                         Who was the Norse leader?|{[Rollo, Rollo, Rollo, Rollo], [308, 308, 308, ...|question: Who was the Norse leader? context: Th...|\n",
            "|56ddde6b9a695914005b962c|Normans|The Normans (Norman: Nourmands; French: Normand...|What century did the Normans first gain their s...|{[10th century, the first half of the 10th cent...|question: What century did the Normans first ga...|\n",
            "|5ad39d53604f3c001a3fe8d1|Normans|The Normans (Norman: Nourmands; French: Normand...|Who gave their name to Normandy in the 1000's a...|                                          {[], []}|question: Who gave their name to Normandy in th...|\n",
            "|5ad39d53604f3c001a3fe8d2|Normans|The Normans (Norman: Nourmands; French: Normand...|                       What is France a region of?|                                          {[], []}|question: What is France a region of? context: ...|\n",
            "|5ad39d53604f3c001a3fe8d3|Normans|The Normans (Norman: Nourmands; French: Normand...|         Who did King Charles III swear fealty to?|                                          {[], []}|question: Who did King Charles III swear fealty...|\n",
            "|5ad39d53604f3c001a3fe8d4|Normans|The Normans (Norman: Nourmands; French: Normand...|            When did the Frankish identity emerge?|                                          {[], []}|question: When did the Frankish identity emerge...|\n",
            "|56dddf4066d3e219004dad5f|Normans|The Norman dynasty had a major political, cultu...|       Who was the duke in the battle of Hastings?|{[William the Conqueror, William the Conqueror,...|question: Who was the duke in the battle of Has...|\n",
            "|56dddf4066d3e219004dad60|Normans|The Norman dynasty had a major political, cultu...|                   Who ruled the duchy of Normandy|{[Richard I, Richard I, Richard I], [573, 573, ...|question: Who ruled the duchy of Normandy conte...|\n",
            "|56dddf4066d3e219004dad61|Normans|The Norman dynasty had a major political, cultu...|                    What religion were the Normans|{[Catholic, Catholic orthodoxy, Catholic], [230...|question: What religion were the Normans contex...|\n",
            "|5ad3a266604f3c001a3fea27|Normans|The Norman dynasty had a major political, cultu...|What type of major impact did the Norman dynast...|                                          {[], []}|question: What type of major impact did the Nor...|\n",
            "|5ad3a266604f3c001a3fea28|Normans|The Norman dynasty had a major political, cultu...|         Who was famed for their Christian spirit?|                                          {[], []}|question: Who was famed for their Christian spi...|\n",
            "|5ad3a266604f3c001a3fea29|Normans|The Norman dynasty had a major political, cultu...|                Who assimilted the Roman language?|                                          {[], []}|question: Who assimilted the Roman language? co...|\n",
            "|5ad3a266604f3c001a3fea2a|Normans|The Norman dynasty had a major political, cultu...|                Who ruled the country of Normandy?|                                          {[], []}|question: Who ruled the country of Normandy? co...|\n",
            "|5ad3a266604f3c001a3fea2b|Normans|The Norman dynasty had a major political, cultu...|What principality did William the conquerer found?|                                          {[], []}|question: What principality did William the con...|\n",
            "|56dde0379a695914005b9636|Normans|The English name \"Normans\" comes from the Frenc...|  What is the original meaning of the word Norman?|{[Viking, Norseman, Viking, Norseman, Viking], ...|question: What is the original meaning of the w...|\n",
            "|56dde0379a695914005b9637|Normans|The English name \"Normans\" comes from the Frenc...|When was the Latin version of the word Norman f...|{[9th century, 9th century, 9th century], [309,...|question: When was the Latin version of the wor...|\n",
            "|5ad3ab70604f3c001a3feb89|Normans|The English name \"Normans\" comes from the Frenc...|What name comes from the English words Normans/...|                                          {[], []}|question: What name comes from the English word...|\n",
            "+------------------------+-------+--------------------------------------------------+--------------------------------------------------+--------------------------------------------------+--------------------------------------------------+\n",
            "only showing top 20 rows\n",
            "\n"
          ]
        }
      ],
      "source": [
        "import pyspark.sql.functions as F\n",
        "\n",
        "df = spark.read\\\n",
        "      .parquet(\"/content/data/validation-00000-of-00001.parquet\")\n",
        "df = df.withColumn('text', F.format_string('question: %s context: %s', F.col('question'), F.col('context')))\n",
        "\n",
        "\n",
        "df.show(truncate=50)"
      ]
    },
    {
      "cell_type": "code",
      "execution_count": 14,
      "metadata": {
        "id": "qd-CX_39Iktn",
        "colab": {
          "base_uri": "https://localhost:8080/"
        },
        "outputId": "088685ec-aba1-426f-9349-eb34db364f00"
      },
      "outputs": [
        {
          "output_type": "stream",
          "name": "stdout",
          "text": [
            "t5_small download started this may take some time.\n",
            "Approximate size to download 241.9 MB\n",
            "[OK!]\n"
          ]
        }
      ],
      "source": [
        "document_assembler = DocumentAssembler() \\\n",
        "    .setInputCol(\"text\") \\\n",
        "    .setOutputCol(\"documents\")\n",
        "\n",
        "t5 = T5Transformer() \\\n",
        "    .pretrained(\"t5_small\") \\\n",
        "    .setTask(\"summarize:\")\\\n",
        "    .setMaxOutputLength(200)\\\n",
        "    .setInputCols([\"documents\"]) \\\n",
        "    .setOutputCol(\"summaries\")\n",
        "\n",
        "pipeline = Pipeline().setStages([document_assembler, t5])\n",
        "\n",
        "results = pipeline.fit(df).transform(df)"
      ]
    },
    {
      "cell_type": "code",
      "execution_count": 16,
      "metadata": {
        "id": "avTepygiVUFC",
        "colab": {
          "base_uri": "https://localhost:8080/"
        },
        "outputId": "5493c125-5d28-4225-d24f-be78a88627e2"
      },
      "outputs": [
        {
          "output_type": "stream",
          "name": "stdout",
          "text": [
            "+--------------------+-------+--------------------+--------------------+--------------------+--------------------+--------------------+--------------------+\n",
            "|                  id|  title|             context|            question|             answers|                text|           documents|           summaries|\n",
            "+--------------------+-------+--------------------+--------------------+--------------------+--------------------+--------------------+--------------------+\n",
            "|56ddde6b9a6959140...|Normans|The Normans (Norm...|In what country i...|{[France, France,...|question: In what...|[{document, 0, 79...|[{document, 0, 5,...|\n",
            "|56ddde6b9a6959140...|Normans|The Normans (Norm...|When were the Nor...|{[10th and 11th c...|question: When we...|[{document, 0, 79...|[{document, 0, 74...|\n",
            "|56ddde6b9a6959140...|Normans|The Normans (Norm...|From which countr...|{[Denmark, Icelan...|question: From wh...|[{document, 0, 80...|[{document, 0, 26...|\n",
            "|56ddde6b9a6959140...|Normans|The Normans (Norm...|Who was the Norse...|{[Rollo, Rollo, R...|question: Who was...|[{document, 0, 78...|[{document, 0, 4,...|\n",
            "|56ddde6b9a6959140...|Normans|The Normans (Norm...|What century did ...|{[10th century, t...|question: What ce...|[{document, 0, 82...|[{document, 0, 22...|\n",
            "|5ad39d53604f3c001...|Normans|The Normans (Norm...|Who gave their na...|            {[], []}|question: Who gav...|[{document, 0, 81...|[{document, 0, 90...|\n",
            "|5ad39d53604f3c001...|Normans|The Normans (Norm...|What is France a ...|            {[], []}|question: What is...|[{document, 0, 78...|[{document, 0, 7,...|\n",
            "|5ad39d53604f3c001...|Normans|The Normans (Norm...|Who did King Char...|            {[], []}|question: Who did...|[{document, 0, 80...|[{document, 0, 10...|\n",
            "|5ad39d53604f3c001...|Normans|The Normans (Norm...|When did the Fran...|            {[], []}|question: When di...|[{document, 0, 79...|[{document, 0, 33...|\n",
            "|56dddf4066d3e2190...|Normans|The Norman dynast...|Who was the duke ...|{[William the Con...|question: Who was...|[{document, 0, 14...|[{document, 0, 20...|\n",
            "|56dddf4066d3e2190...|Normans|The Norman dynast...|Who ruled the duc...|{[Richard I, Rich...|question: Who rul...|[{document, 0, 14...|[{document, 0, 51...|\n",
            "|56dddf4066d3e2190...|Normans|The Norman dynast...|What religion wer...|{[Catholic, Catho...|question: What re...|[{document, 0, 14...|[{document, 0, 81...|\n",
            "|5ad3a266604f3c001...|Normans|The Norman dynast...|What type of majo...|            {[], []}|question: What ty...|[{document, 0, 15...|[{document, 0, 31...|\n",
            "|5ad3a266604f3c001...|Normans|The Norman dynast...|Who was famed for...|            {[], []}|question: Who was...|[{document, 0, 14...|[{document, 0, 6,...|\n",
            "|5ad3a266604f3c001...|Normans|The Norman dynast...|Who assimilted th...|            {[], []}|question: Who ass...|[{document, 0, 14...|[{document, 0, 20...|\n",
            "|5ad3a266604f3c001...|Normans|The Norman dynast...|Who ruled the cou...|            {[], []}|question: Who rul...|[{document, 0, 14...|[{document, 0, 20...|\n",
            "|5ad3a266604f3c001...|Normans|The Norman dynast...|What principality...|            {[], []}|question: What pr...|[{document, 0, 14...|[{document, 0, 20...|\n",
            "|56dde0379a6959140...|Normans|The English name ...|What is the origi...|{[Viking, Norsema...|question: What is...|[{document, 0, 41...|[{document, 0, 8,...|\n",
            "|56dde0379a6959140...|Normans|The English name ...|When was the Lati...|{[9th century, 9t...|question: When wa...|[{document, 0, 42...|[{document, 0, 10...|\n",
            "|5ad3ab70604f3c001...|Normans|The English name ...|What name comes f...|            {[], []}|question: What na...|[{document, 0, 42...|[{document, 0, 6,...|\n",
            "+--------------------+-------+--------------------+--------------------+--------------------+--------------------+--------------------+--------------------+\n",
            "only showing top 20 rows\n",
            "\n"
          ]
        }
      ],
      "source": [
        "results.show()"
      ]
    },
    {
      "cell_type": "code",
      "execution_count": 20,
      "metadata": {
        "id": "mAYe90QU8lHh",
        "colab": {
          "base_uri": "https://localhost:8080/"
        },
        "outputId": "1aded606-8fa2-4685-e61d-1eb08dbeaa22"
      },
      "outputs": [
        {
          "output_type": "stream",
          "name": "stdout",
          "text": [
            "+-------------------------------------------------------------------------------------------------------------------------------------+\n",
            "|summaries                                                                                                                            |\n",
            "+-------------------------------------------------------------------------------------------------------------------------------------+\n",
            "|[{document, 0, 5, France, {sentence -> 0}, []}]                                                                                      |\n",
            "|[{document, 0, 74, the 10th and 11th centuries gave their name to Normandy, a region in France, {sentence -> 0}, []}]                |\n",
            "|[{document, 0, 26, Denmark, Iceland and Norway, {sentence -> 0}, []}]                                                                |\n",
            "|[{document, 0, 4, Rollo, {sentence -> 0}, []}]                                                                                       |\n",
            "|[{document, 0, 22, 10th and 11th centuries, {sentence -> 0}, []}]                                                                    |\n",
            "|[{document, 0, 90, the Normans were the people who gave their name to Normandy in the 10th and 11th centuries., {sentence -> 0}, []}]|\n",
            "|[{document, 0, 7, Normandy, {sentence -> 0}, []}]                                                                                    |\n",
            "|[{document, 0, 10, the Normans, {sentence -> 0}, []}]                                                                                |\n",
            "|[{document, 0, 33, the first half of the 10th century, {sentence -> 0}, []}]                                                         |\n",
            "|[{document, 0, 20, William the Conqueror, {sentence -> 0}, []}]                                                                      |\n",
            "|[{document, 0, 51, the Normans formed by treaty with the French crown ., {sentence -> 0}, []}]                                       |\n",
            "|[{document, 0, 81, the Normans adopted the Gallo-Romance language of the Frankish land they settled ., {sentence -> 0}, []}]         |\n",
            "|[{document, 0, 31, political, cultural and military, {sentence -> 0}, []}]                                                           |\n",
            "|[{document, 0, 6, Normans, {sentence -> 0}, []}]                                                                                     |\n",
            "|[{document, 0, 20, Richard I of Normandy, {sentence -> 0}, []}]                                                                      |\n",
            "|[{document, 0, 20, Richard I of Normandy, {sentence -> 0}, []}]                                                                      |\n",
            "|[{document, 0, 20, the Duchy of Normandy, {sentence -> 0}, []}]                                                                      |\n",
            "|[{document, 0, 8, Normannus, {sentence -> 0}, []}]                                                                                   |\n",
            "|[{document, 0, 10, 9th century, {sentence -> 0}, []}]                                                                                |\n",
            "|[{document, 0, 6, Normant, {sentence -> 0}, []}]                                                                                     |\n",
            "+-------------------------------------------------------------------------------------------------------------------------------------+\n",
            "only showing top 20 rows\n",
            "\n"
          ]
        }
      ],
      "source": [
        "results.select(\"summaries\").show(truncate = False)"
      ]
    }
  ],
  "metadata": {
    "colab": {
      "provenance": [],
      "machine_shape": "hm",
      "collapsed_sections": [
        "Nn6vOaJ7y3ZZ"
      ]
    },
    "kernelspec": {
      "display_name": "Python 3",
      "name": "python3"
    },
    "language_info": {
      "codemirror_mode": {
        "name": "ipython",
        "version": 3
      },
      "file_extension": ".py",
      "mimetype": "text/x-python",
      "name": "python",
      "nbconvert_exporter": "python",
      "pygments_lexer": "ipython3",
      "version": "3.7.5"
    }
  },
  "nbformat": 4,
  "nbformat_minor": 0
}